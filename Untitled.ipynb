{
 "cells": [
  {
   "cell_type": "code",
   "execution_count": 1,
   "id": "cda96383-48a7-481f-8be2-4f2b796f8803",
   "metadata": {
    "canvas": {
     "comments": [],
     "componentType": "CodeCell",
     "copiedOriginId": null,
     "diskcache": false,
     "headerColor": "inherit",
     "id": "489de8f3-00d0-44ed-a5c8-bd20facaf111",
     "isComponent": true,
     "name": "1",
     "parents": []
    },
    "tags": []
   },
   "outputs": [],
   "source": [
    "a = 8"
   ]
  },
  {
   "cell_type": "code",
   "execution_count": null,
   "id": "f4eddeb0-194e-445c-b0df-e4bae55cf4cb",
   "metadata": {
    "canvas": {
     "comments": [],
     "componentType": "CodeCell",
     "copiedOriginId": null,
     "diskcache": false,
     "headerColor": "inherit",
     "id": "cafe4187-319f-4ce3-8797-25c6aa9ae455",
     "isComponent": true,
     "name": "2",
     "parents": [
      {
       "id": "489de8f3-00d0-44ed-a5c8-bd20facaf111",
       "name": "1"
      }
     ]
    },
    "tags": []
   },
   "outputs": [],
   "source": [
    "b = 6"
   ]
  }
 ],
 "metadata": {
  "canvas": {
   "colorPalette": [
    "inherit",
    "inherit",
    "inherit",
    "inherit",
    "inherit",
    "inherit",
    "inherit",
    "inherit",
    "inherit",
    "inherit"
   ],
   "parameters": []
  },
  "kernelspec": {
   "display_name": "Python 3 (ipykernel)",
   "language": "python",
   "name": "python3"
  },
  "language_info": {
   "codemirror_mode": {
    "name": "ipython",
    "version": 3
   },
   "file_extension": ".py",
   "mimetype": "text/x-python",
   "name": "python",
   "nbconvert_exporter": "python",
   "pygments_lexer": "ipython3",
   "version": "3.9.12"
  }
 },
 "nbformat": 4,
 "nbformat_minor": 5
}
